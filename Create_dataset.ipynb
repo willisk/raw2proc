{
 "cells": [
  {
   "cell_type": "code",
   "execution_count": 94,
   "metadata": {},
   "outputs": [],
   "source": [
    "import pandas as pd\n",
    "import wget\n",
    "import random\n",
    "import time\n",
    "\n",
    "import subprocess\n",
    "\n",
    "#url = \"https://url/to/index.html\"\n",
    "#path = \"/path/to/save/your/files\"\n",
    "#subprocess.run([\"wget\", \"-r\", \"-nc\", \"-P\", path, url])\n",
    "\n",
    "def extract_sample_url(time_stamp, items_per_class=100, paths=['./data/InOut/all/RAISE_Indoor_D7000.csv','./data/InOut/all/RAISE_Outdoor_D7000.csv']):\n",
    "    \n",
    "    file = open('./data/InOut/Raise_InOut%i_D7000_%s'%(items_per_class,time_stamp), \"x\")\n",
    "    for i, class_path in enumerate(paths):\n",
    "        df = pd.read_csv(class_path)\n",
    "        save_loc = class_path.split('_')[1]\n",
    "        sample = df.sample(n=items_per_class)\n",
    "        if i == 0:\n",
    "            sample.to_csv('./data/InOut/RAISE_%s%i_D7000_%s.csv'%(save_loc,items_per_class,time_stamp),header=True)\n",
    "        else:\n",
    "            sample.to_csv('./data/InOut/RAISE_%s%i_D7000_%s.csv'%(save_loc,items_per_class,time_stamp),mode='a')\n",
    "        for x in sample['NEF']:\n",
    "            file.write(x+'\\n')\n",
    "            \n",
    "    return"
   ]
  },
  {
   "cell_type": "code",
   "execution_count": 95,
   "metadata": {},
   "outputs": [],
   "source": [
    "time_stamp = str(time.time() - int(time.time()))[2:7]\n",
    "extract_sample_url(time_stamp)"
   ]
  }
 ],
 "metadata": {
  "kernelspec": {
   "display_name": "Python 3",
   "language": "python",
   "name": "python3"
  },
  "language_info": {
   "codemirror_mode": {
    "name": "ipython",
    "version": 3
   },
   "file_extension": ".py",
   "mimetype": "text/x-python",
   "name": "python",
   "nbconvert_exporter": "python",
   "pygments_lexer": "ipython3",
   "version": "3.8.5"
  }
 },
 "nbformat": 4,
 "nbformat_minor": 4
}
