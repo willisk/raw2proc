{
 "cells": [
  {
   "cell_type": "code",
   "execution_count": 9,
   "metadata": {},
   "outputs": [],
   "source": [
    "from colour_demosaicing import demosaicing_CFA_Bayer_bilinear,demosaicing_CFA_Bayer_Malvar2004, demosaicing_CFA_Bayer_Menon2007\n",
    "\n",
    "from torchvision import transforms, utils\n",
    "\n",
    "import importlib\n",
    "\n",
    "import classifier\n",
    "importlib.reload(classifier)\n",
    "\n",
    "from classifier import Model\n",
    "\n",
    "import utils.dataset \n",
    "importlib.reload(utils.dataset )\n",
    "from utils.dataset import * "
   ]
  },
  {
   "cell_type": "markdown",
   "metadata": {},
   "source": [
    "## Load the data"
   ]
  },
  {
   "cell_type": "markdown",
   "metadata": {},
   "source": [
    "Before you load the data, you need to run Save_split_raw_drone_images.ipynb to download the raw data and store the subimages  as .npy array."
   ]
  },
  {
   "cell_type": "code",
   "execution_count": 12,
   "metadata": {},
   "outputs": [],
   "source": [
    "train_loc = './data/DroneImages/train663_random_state_72 11859.csv'\n",
    "test_loc = './data/DroneImages/test663_random_state_72 11859.csv'\n",
    "\n",
    "mean = torch.tensor([8742.9814, 8742.9814, 8742.9814])\n",
    "std = torch.tensor([5097.3960, 5097.3960, 5097.3960])"
   ]
  },
  {
   "cell_type": "markdown",
   "metadata": {},
   "source": [
    "Calculate mean and std:"
   ]
  },
  {
   "cell_type": "code",
   "execution_count": 14,
   "metadata": {},
   "outputs": [
    {
     "name": "stdout",
     "output_type": "stream",
     "text": [
      "1062\n"
     ]
    },
    {
     "data": {
      "text/plain": [
       "(tensor([8742.9873, 8742.9873, 8742.9873]),\n",
       " tensor([5097.3887, 5097.3887, 5097.3887]))"
      ]
     },
     "execution_count": 14,
     "metadata": {},
     "output_type": "execute_result"
    }
   ],
   "source": [
    "'''\n",
    "trainset = Raw_Dataset(csv_file=train_loc,\n",
    "                             root_dir = './data/DroneImages/sub_input_numpy',\n",
    "                              class_name='car',\n",
    "                                    transform = transforms.Compose([ToTensor(stacked=True)]))\n",
    "\n",
    "print(len(trainset))\n",
    "trainloader = torch.utils.data.DataLoader(trainset, batch_size=1062, shuffle=True, num_workers=4)\n",
    "\n",
    "dataiter = iter(trainloader)\n",
    "images,labels = dataiter.next()\n",
    "torch.mean(images,axis=(0,2,3)),torch.std(images,axis=(0,2,3))\n",
    "'''"
   ]
  },
  {
   "cell_type": "markdown",
   "metadata": {},
   "source": [
    "Check mean and std:"
   ]
  },
  {
   "cell_type": "code",
   "execution_count": 16,
   "metadata": {},
   "outputs": [
    {
     "data": {
      "text/plain": [
       "(tensor([5.1483e-07, 5.1483e-07, 5.1483e-07]),\n",
       " tensor([1.0000, 1.0000, 1.0000]))"
      ]
     },
     "execution_count": 16,
     "metadata": {},
     "output_type": "execute_result"
    }
   ],
   "source": [
    "'''\n",
    "trainset = Raw_Dataset(csv_file=train_loc,\n",
    "                             root_dir = './data/DroneImages/sub_input_numpy',\n",
    "                              class_name='car',\n",
    "                                    transform = transforms.Compose([ToTensor(stacked=True),transforms.Normalize(mean,std)]))\n",
    "\n",
    "trainloader = torch.utils.data.DataLoader(trainset, batch_size=1062, shuffle=True, num_workers=4)\n",
    "\n",
    "dataiter = iter(trainloader)\n",
    "images,labels = dataiter.next()\n",
    "torch.mean(images,axis=(0,2,3)),torch.std(images,axis=(0,2,3))\n",
    "'''"
   ]
  },
  {
   "cell_type": "code",
   "execution_count": 17,
   "metadata": {},
   "outputs": [],
   "source": [
    "trainset = Raw_Dataset(csv_file=train_loc,\n",
    "                             root_dir = './data/DroneImages/sub_input_numpy',\n",
    "                              class_name='car',\n",
    "                                    transform = transforms.Compose([ToTensor(stacked=True),transforms.Normalize(mean,std)]))\n",
    "\n",
    "trainloader = torch.utils.data.DataLoader(trainset, batch_size=4, shuffle=True, num_workers=4)\n",
    "\n",
    "testset = Raw_Dataset(csv_file=test_loc,\n",
    "                             root_dir = './data/DroneImages/sub_input_numpy',\n",
    "                              class_name='car',\n",
    "                                    transform = transforms.Compose([ToTensor(stacked=True),transforms.Normalize(mean,std)]))\n",
    "\n",
    "testloader = torch.utils.data.DataLoader(testset, batch_size=4, shuffle=True, num_workers=4)\n",
    "\n",
    "classes = ('no car', 'car')"
   ]
  },
  {
   "cell_type": "code",
   "execution_count": 18,
   "metadata": {},
   "outputs": [
    {
     "name": "stdout",
     "output_type": "stream",
     "text": [
      "Proportion of class car in trainset: 0.5\n",
      "Proportion of class car in testset: 0.5\n"
     ]
    }
   ],
   "source": [
    "print('Proportion of class car in trainset:',sum([trainset[i][1] for i in range(len(trainset))])/len(trainset))\n",
    "print('Proportion of class car in testset:',sum([testset[i][1] for i in range(len(testset))])/len(testset))"
   ]
  },
  {
   "cell_type": "markdown",
   "metadata": {},
   "source": [
    "## Train a ResNetX"
   ]
  },
  {
   "cell_type": "code",
   "execution_count": 13,
   "metadata": {},
   "outputs": [],
   "source": [
    "import torchvision.models as models\n",
    "\n",
    "resnet18 = models.resnet18(pretrained=True)\n",
    "#resnet18.conv1 = torch.nn.Conv2d(1, 64, kernel_size=(7, 7), stride=(2, 2), padding=(3, 3), bias=False)\n",
    "resnet18.fc = torch.nn.Linear(in_features=512, out_features=2, bias=True)"
   ]
  },
  {
   "cell_type": "code",
   "execution_count": 15,
   "metadata": {},
   "outputs": [],
   "source": [
    "model = Model(resnet18,trainloader,testloader)"
   ]
  },
  {
   "cell_type": "code",
   "execution_count": 16,
   "metadata": {},
   "outputs": [
    {
     "name": "stdout",
     "output_type": "stream",
     "text": [
      "[0.5122180451127819]\n",
      "[0.5151515151515151]\n"
     ]
    },
    {
     "name": "stderr",
     "output_type": "stream",
     "text": [
      "/home/nobis/anaconda3/lib/python3.8/site-packages/torch/autograd/__init__.py:130: UserWarning: CUDA initialization: Found no NVIDIA driver on your system. Please check that you have an NVIDIA GPU and installed a driver from http://www.nvidia.com/Download/index.aspx (Triggered internally at  /opt/conda/conda-bld/pytorch_1603729062494/work/c10/cuda/CUDAFunctions.cpp:100.)\n",
      "  Variable._execution_engine.run_backward(\n"
     ]
    },
    {
     "name": "stdout",
     "output_type": "stream",
     "text": [
      "epoch 1 minimbatch 1 --  loss: 1.92827165e-02 -- learning rate: 1.00000000e-04\n",
      "epoch 1 minimbatch 41 --  loss: 6.63524918e-01 -- learning rate: 1.00000000e-04\n",
      "epoch 1 minimbatch 81 --  loss: 6.63610847e-01 -- learning rate: 1.00000000e-04\n",
      "epoch 1 minimbatch 121 --  loss: 6.17951922e-01 -- learning rate: 1.00000000e-04\n",
      "epoch 1 minimbatch 161 --  loss: 5.66593774e-01 -- learning rate: 1.00000000e-04\n",
      "epoch 1 minimbatch 201 --  loss: 5.56632092e-01 -- learning rate: 1.00000000e-04\n",
      "epoch 1 minimbatch 241 --  loss: 5.21606726e-01 -- learning rate: 1.00000000e-04\n",
      "EPOCH 1 DONE --  loss: 5.96729130e-01\n",
      "[0.5122180451127819, 0.7509398496240601]\n",
      "[0.5151515151515151, 0.7272727272727273]\n",
      "epoch 2 minimbatch 1 --  loss: 1.40977889e-02 -- learning rate: 1.00000000e-04\n",
      "epoch 2 minimbatch 41 --  loss: 5.02888141e-01 -- learning rate: 1.00000000e-04\n",
      "epoch 2 minimbatch 81 --  loss: 5.42340831e-01 -- learning rate: 1.00000000e-04\n",
      "epoch 2 minimbatch 121 --  loss: 5.63202376e-01 -- learning rate: 1.00000000e-04\n",
      "epoch 2 minimbatch 161 --  loss: 5.34492719e-01 -- learning rate: 1.00000000e-04\n",
      "epoch 2 minimbatch 201 --  loss: 5.03069439e-01 -- learning rate: 1.00000000e-04\n",
      "epoch 2 minimbatch 241 --  loss: 5.37525952e-01 -- learning rate: 1.00000000e-04\n",
      "EPOCH 2 DONE --  loss: 5.32968127e-01\n",
      "[0.5122180451127819, 0.7509398496240601, 0.831766917293233]\n",
      "[0.5151515151515151, 0.7272727272727273, 0.7803030303030303]\n",
      "epoch 3 minimbatch 1 --  loss: 1.06578521e-02 -- learning rate: 1.00000000e-04\n",
      "epoch 3 minimbatch 41 --  loss: 4.87785101e-01 -- learning rate: 1.00000000e-04\n",
      "epoch 3 minimbatch 81 --  loss: 4.64631834e-01 -- learning rate: 1.00000000e-04\n",
      "epoch 3 minimbatch 121 --  loss: 4.30140795e-01 -- learning rate: 1.00000000e-04\n",
      "epoch 3 minimbatch 161 --  loss: 4.78932157e-01 -- learning rate: 1.00000000e-04\n",
      "epoch 3 minimbatch 201 --  loss: 5.53508963e-01 -- learning rate: 1.00000000e-04\n",
      "epoch 3 minimbatch 241 --  loss: 4.28229375e-01 -- learning rate: 1.00000000e-04\n",
      "EPOCH 3 DONE --  loss: 4.64181646e-01\n",
      "[0.5122180451127819, 0.7509398496240601, 0.831766917293233, 0.8327067669172933]\n",
      "[0.5151515151515151, 0.7272727272727273, 0.7803030303030303, 0.7575757575757576]\n",
      "epoch 4 minimbatch 1 --  loss: 3.77883613e-02 -- learning rate: 1.00000000e-04\n",
      "epoch 4 minimbatch 41 --  loss: 4.70229980e-01 -- learning rate: 1.00000000e-04\n",
      "epoch 4 minimbatch 81 --  loss: 4.51334073e-01 -- learning rate: 1.00000000e-04\n",
      "epoch 4 minimbatch 121 --  loss: 4.72885732e-01 -- learning rate: 1.00000000e-04\n",
      "epoch 4 minimbatch 161 --  loss: 4.39085902e-01 -- learning rate: 1.00000000e-04\n",
      "epoch 4 minimbatch 201 --  loss: 4.11514162e-01 -- learning rate: 1.00000000e-04\n",
      "epoch 4 minimbatch 241 --  loss: 4.43982833e-01 -- learning rate: 1.00000000e-04\n",
      "EPOCH 4 DONE --  loss: 4.55305544e-01\n",
      "[0.5122180451127819, 0.7509398496240601, 0.831766917293233, 0.8327067669172933, 0.8693609022556391]\n",
      "[0.5151515151515151, 0.7272727272727273, 0.7803030303030303, 0.7575757575757576, 0.7575757575757576]\n",
      "epoch 5 minimbatch 1 --  loss: 1.02392562e-02 -- learning rate: 1.00000000e-04\n",
      "epoch 5 minimbatch 41 --  loss: 4.57283980e-01 -- learning rate: 1.00000000e-04\n",
      "epoch 5 minimbatch 81 --  loss: 4.02139285e-01 -- learning rate: 1.00000000e-04\n",
      "epoch 5 minimbatch 121 --  loss: 4.41521637e-01 -- learning rate: 1.00000000e-04\n",
      "epoch 5 minimbatch 161 --  loss: 4.98136331e-01 -- learning rate: 1.00000000e-04\n",
      "epoch 5 minimbatch 201 --  loss: 3.66711603e-01 -- learning rate: 1.00000000e-04\n",
      "epoch 5 minimbatch 241 --  loss: 4.74323128e-01 -- learning rate: 1.00000000e-04\n",
      "EPOCH 5 DONE --  loss: 4.40988257e-01\n",
      "[0.5122180451127819, 0.7509398496240601, 0.831766917293233, 0.8327067669172933, 0.8693609022556391, 0.9172932330827067]\n",
      "[0.5151515151515151, 0.7272727272727273, 0.7803030303030303, 0.7575757575757576, 0.7575757575757576, 0.7916666666666666]\n",
      "epoch 6 minimbatch 1 --  loss: 1.78184751e-03 -- learning rate: 1.00000000e-04\n",
      "epoch 6 minimbatch 41 --  loss: 3.96628277e-01 -- learning rate: 1.00000000e-04\n",
      "epoch 6 minimbatch 81 --  loss: 3.42504476e-01 -- learning rate: 1.00000000e-04\n",
      "epoch 6 minimbatch 121 --  loss: 4.11658879e-01 -- learning rate: 1.00000000e-04\n",
      "epoch 6 minimbatch 161 --  loss: 4.29871845e-01 -- learning rate: 1.00000000e-04\n",
      "epoch 6 minimbatch 201 --  loss: 3.98165892e-01 -- learning rate: 1.00000000e-04\n",
      "epoch 6 minimbatch 241 --  loss: 3.85789802e-01 -- learning rate: 1.00000000e-04\n",
      "EPOCH 6 DONE --  loss: 3.95740183e-01\n",
      "[0.5122180451127819, 0.7509398496240601, 0.831766917293233, 0.8327067669172933, 0.8693609022556391, 0.9172932330827067, 0.9060150375939849]\n",
      "[0.5151515151515151, 0.7272727272727273, 0.7803030303030303, 0.7575757575757576, 0.7575757575757576, 0.7916666666666666, 0.7651515151515151]\n",
      "epoch 7 minimbatch 1 --  loss: 1.41992167e-02 -- learning rate: 1.00000000e-04\n",
      "epoch 7 minimbatch 41 --  loss: 4.32177006e-01 -- learning rate: 1.00000000e-04\n",
      "epoch 7 minimbatch 81 --  loss: 2.80803459e-01 -- learning rate: 1.00000000e-04\n",
      "epoch 7 minimbatch 121 --  loss: 4.14949539e-01 -- learning rate: 1.00000000e-04\n",
      "epoch 7 minimbatch 161 --  loss: 3.35934422e-01 -- learning rate: 1.00000000e-04\n",
      "epoch 7 minimbatch 201 --  loss: 4.14751267e-01 -- learning rate: 1.00000000e-04\n",
      "epoch 7 minimbatch 241 --  loss: 4.00595890e-01 -- learning rate: 1.00000000e-04\n",
      "EPOCH 7 DONE --  loss: 3.78041883e-01\n",
      "[0.5122180451127819, 0.7509398496240601, 0.831766917293233, 0.8327067669172933, 0.8693609022556391, 0.9172932330827067, 0.9060150375939849, 0.9511278195488722]\n",
      "[0.5151515151515151, 0.7272727272727273, 0.7803030303030303, 0.7575757575757576, 0.7575757575757576, 0.7916666666666666, 0.7651515151515151, 0.803030303030303]\n",
      "epoch 8 minimbatch 1 --  loss: 1.35268286e-02 -- learning rate: 1.00000000e-04\n",
      "epoch 8 minimbatch 41 --  loss: 3.17930522e-01 -- learning rate: 1.00000000e-04\n",
      "epoch 8 minimbatch 81 --  loss: 3.37523273e-01 -- learning rate: 1.00000000e-04\n",
      "epoch 8 minimbatch 121 --  loss: 3.43595756e-01 -- learning rate: 1.00000000e-04\n",
      "epoch 8 minimbatch 161 --  loss: 3.02306136e-01 -- learning rate: 1.00000000e-04\n",
      "epoch 8 minimbatch 201 --  loss: 3.82745344e-01 -- learning rate: 1.00000000e-04\n",
      "epoch 8 minimbatch 241 --  loss: 3.42722470e-01 -- learning rate: 1.00000000e-04\n",
      "EPOCH 8 DONE --  loss: 3.31830684e-01\n",
      "[0.5122180451127819, 0.7509398496240601, 0.831766917293233, 0.8327067669172933, 0.8693609022556391, 0.9172932330827067, 0.9060150375939849, 0.9511278195488722, 0.9661654135338346]\n",
      "[0.5151515151515151, 0.7272727272727273, 0.7803030303030303, 0.7575757575757576, 0.7575757575757576, 0.7916666666666666, 0.7651515151515151, 0.803030303030303, 0.7992424242424242]\n",
      "epoch 9 minimbatch 1 --  loss: 9.07190144e-03 -- learning rate: 1.00000000e-04\n",
      "epoch 9 minimbatch 41 --  loss: 3.25530621e-01 -- learning rate: 1.00000000e-04\n",
      "epoch 9 minimbatch 81 --  loss: 3.03245449e-01 -- learning rate: 1.00000000e-04\n",
      "epoch 9 minimbatch 121 --  loss: 3.26123293e-01 -- learning rate: 1.00000000e-04\n",
      "epoch 9 minimbatch 161 --  loss: 3.23259568e-01 -- learning rate: 1.00000000e-04\n",
      "epoch 9 minimbatch 201 --  loss: 3.81195563e-01 -- learning rate: 1.00000000e-04\n",
      "epoch 9 minimbatch 241 --  loss: 3.19868484e-01 -- learning rate: 1.00000000e-04\n",
      "EPOCH 9 DONE --  loss: 3.16958099e-01\n",
      "[0.5122180451127819, 0.7509398496240601, 0.831766917293233, 0.8327067669172933, 0.8693609022556391, 0.9172932330827067, 0.9060150375939849, 0.9511278195488722, 0.9661654135338346, 0.9727443609022557]\n",
      "[0.5151515151515151, 0.7272727272727273, 0.7803030303030303, 0.7575757575757576, 0.7575757575757576, 0.7916666666666666, 0.7651515151515151, 0.803030303030303, 0.7992424242424242, 0.8143939393939394]\n",
      "epoch 10 minimbatch 1 --  loss: 1.79440454e-03 -- learning rate: 1.00000000e-04\n",
      "epoch 10 minimbatch 41 --  loss: 3.55379763e-01 -- learning rate: 1.00000000e-04\n",
      "epoch 10 minimbatch 81 --  loss: 2.84483854e-01 -- learning rate: 1.00000000e-04\n",
      "epoch 10 minimbatch 121 --  loss: 2.48231990e-01 -- learning rate: 1.00000000e-04\n",
      "epoch 10 minimbatch 161 --  loss: 3.07709625e-01 -- learning rate: 1.00000000e-04\n",
      "epoch 10 minimbatch 201 --  loss: 3.12722080e-01 -- learning rate: 1.00000000e-04\n",
      "epoch 10 minimbatch 241 --  loss: 2.89515964e-01 -- learning rate: 1.00000000e-04\n",
      "EPOCH 10 DONE --  loss: 2.96552162e-01\n",
      "[0.5122180451127819, 0.7509398496240601, 0.831766917293233, 0.8327067669172933, 0.8693609022556391, 0.9172932330827067, 0.9060150375939849, 0.9511278195488722, 0.9661654135338346, 0.9727443609022557, 0.981203007518797]\n",
      "[0.5151515151515151, 0.7272727272727273, 0.7803030303030303, 0.7575757575757576, 0.7575757575757576, 0.7916666666666666, 0.7651515151515151, 0.803030303030303, 0.7992424242424242, 0.8143939393939394, 0.821969696969697]\n"
     ]
    },
    {
     "data": {
      "image/png": "[encoded data removed]",
      "text/plain": [
       "<Figure size 1152x288 with 2 Axes>"
      ]
     },
     "metadata": {
      "needs_background": "light"
     },
     "output_type": "display_data"
    },
    {
     "name": "stdout",
     "output_type": "stream",
     "text": [
      "Finished Training\n"
     ]
    }
   ],
   "source": [
    "model.train(epochs=10,lrs=[1e-4],plot=True)"
   ]
  },
  {
   "cell_type": "code",
   "execution_count": 21,
   "metadata": {},
   "outputs": [],
   "source": [
    "path = './trained/DroneImages/ResNet18/pre_trained/pre_trained_raw_stacked_random_state_72 11859.pth'\n",
    "torch.save(model.net.state_dict(),path)"
   ]
  },
  {
   "cell_type": "code",
   "execution_count": 9,
   "metadata": {},
   "outputs": [
    {
     "data": {
      "text/plain": [
       "<All keys matched successfully>"
      ]
     },
     "execution_count": 9,
     "metadata": {},
     "output_type": "execute_result"
    }
   ],
   "source": [
    "import torchvision.models as models\n",
    "\n",
    "path = './trained/DroneImages/ResNet18/pre_trained/pre_trained_raw_visible_stacked_random_state_72 11859.pth'\n",
    "resnet18 = models.resnet18(pretrained=False)\n",
    "resnet18.fc = torch.nn.Linear(in_features=512, out_features=2, bias=True)\n",
    "model = Model(resnet18,trainloader,testloader)\n",
    "model.net.load_state_dict(torch.load(path))"
   ]
  },
  {
   "cell_type": "code",
   "execution_count": 20,
   "metadata": {},
   "outputs": [],
   "source": []
  },
  {
   "cell_type": "code",
   "execution_count": 23,
   "metadata": {},
   "outputs": [],
   "source": [
    "B_1 = Visible_Raw_Dataset(csv_file=test_loc,\n",
    "                             root_dir = './data/DroneImages/sub_input_numpy',\n",
    "                              class_name='car',\n",
    "                                    transform = transforms.Compose([Demosaicing(),transforms.Normalize(mean,std)]))\n",
    "\n",
    "B_1_loader = torch.utils.data.DataLoader(B_1, batch_size=4, shuffle=True, num_workers=4)"
   ]
  },
  {
   "cell_type": "code",
   "execution_count": 24,
   "metadata": {},
   "outputs": [
    {
     "data": {
      "text/plain": [
       "0.821969696969697"
      ]
     },
     "execution_count": 24,
     "metadata": {},
     "output_type": "execute_result"
    }
   ],
   "source": [
    "model.predict(testloader)"
   ]
  },
  {
   "cell_type": "code",
   "execution_count": 25,
   "metadata": {},
   "outputs": [
    {
     "data": {
      "text/plain": [
       "0.6704545454545454"
      ]
     },
     "execution_count": 25,
     "metadata": {},
     "output_type": "execute_result"
    }
   ],
   "source": [
    "model.predict(B_1_loader)"
   ]
  },
  {
   "cell_type": "code",
   "execution_count": 26,
   "metadata": {},
   "outputs": [],
   "source": [
    "B_2 = Visible_Raw_Dataset(csv_file=test_loc,\n",
    "                             root_dir = './data/DroneImages/sub_input_numpy',\n",
    "                              class_name='car',\n",
    "                                    transform = transforms.Compose([Demosaicing(demosaic = demosaicing_CFA_Bayer_Malvar2004),transforms.Normalize(mean,std)]))\n",
    "\n",
    "B_2_loader = torch.utils.data.DataLoader(B_2, batch_size=4, shuffle=True, num_workers=4)"
   ]
  },
  {
   "cell_type": "code",
   "execution_count": 27,
   "metadata": {},
   "outputs": [
    {
     "data": {
      "text/plain": [
       "0.6742424242424242"
      ]
     },
     "execution_count": 27,
     "metadata": {},
     "output_type": "execute_result"
    }
   ],
   "source": [
    "model.predict(B_2_loader)"
   ]
  },
  {
   "cell_type": "code",
   "execution_count": 28,
   "metadata": {},
   "outputs": [],
   "source": [
    "B_3 = Visible_Raw_Dataset(csv_file=test_loc,\n",
    "                             root_dir = './data/DroneImages/sub_input_numpy',\n",
    "                              class_name='car',\n",
    "                                    transform = transforms.Compose([Demosaicing(demosaic = demosaicing_CFA_Bayer_Menon2007),transforms.Normalize(mean,std)]))\n",
    "\n",
    "B_3_loader = torch.utils.data.DataLoader(B_3, batch_size=4, shuffle=True, num_workers=4)"
   ]
  },
  {
   "cell_type": "code",
   "execution_count": 29,
   "metadata": {},
   "outputs": [
    {
     "data": {
      "text/plain": [
       "0.6818181818181818"
      ]
     },
     "execution_count": 29,
     "metadata": {},
     "output_type": "execute_result"
    }
   ],
   "source": [
    "model.predict(B_3_loader)"
   ]
  }
 ],
 "metadata": {
  "kernelspec": {
   "display_name": "Python 3",
   "language": "python",
   "name": "python3"
  },
  "language_info": {
   "codemirror_mode": {
    "name": "ipython",
    "version": 3
   },
   "file_extension": ".py",
   "mimetype": "text/x-python",
   "name": "python",
   "nbconvert_exporter": "python",
   "pygments_lexer": "ipython3",
   "version": "3.8.5"
  }
 },
 "nbformat": 4,
 "nbformat_minor": 4
}
